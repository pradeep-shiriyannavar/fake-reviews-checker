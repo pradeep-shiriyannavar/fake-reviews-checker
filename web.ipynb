{
 "cells": [
  {
   "cell_type": "code",
   "execution_count": 22,
   "metadata": {},
   "outputs": [],
   "source": [
    "import numpy as np #importing the numpy module which we will be using in this project\n",
    "import pandas as pd #importing the pandas module which will be used in this porject\n",
    "import string#importing the pandas module which will be used in this porject\n",
    "from sklearn.model_selection import train_test_split, GridSearchCV#importing the test_train_split module which will be used in this porject\n",
    "from sklearn.metrics import classification_report, confusion_matrix, accuracy_score #importing the classification report adn the confusion matrix module which will be used in this porject\n",
    "import nltk#importing the nltk module which will be used in this porject\n",
    "from nltk.corpus import stopwords#importing the nltk.corpus.stopwords module which will be used in this porject\n",
    "from sklearn.feature_extraction.text import CountVectorizer, TfidfTransformer#importing the extraction.text.CountVectorizer and TfidfTransformer module which will be used in this porject\n",
    "from sklearn.pipeline import Pipeline#importing the sklearn.pipeline.Pipeline module which will be used in this porject\n",
    "from sklearn.ensemble import RandomForestClassifier#importing the sklearn.ensemble.RandomForestClassifier module which will be used in this porject\n",
    "from sklearn.svm import SVC#importing the sklearn.svm.SVC module which will be used in this porject\n",
    "from sklearn.linear_model import LogisticRegression#importing the sklearn.linear_model.LogisticRegression module which will be used in this porject"
   ]
  },
  {
   "cell_type": "code",
   "execution_count": 23,
   "metadata": {},
   "outputs": [
    {
     "data": {
      "text/html": [
       "<div>\n",
       "<style scoped>\n",
       "    .dataframe tbody tr th:only-of-type {\n",
       "        vertical-align: middle;\n",
       "    }\n",
       "\n",
       "    .dataframe tbody tr th {\n",
       "        vertical-align: top;\n",
       "    }\n",
       "\n",
       "    .dataframe thead th {\n",
       "        text-align: right;\n",
       "    }\n",
       "</style>\n",
       "<table border=\"1\" class=\"dataframe\">\n",
       "  <thead>\n",
       "    <tr style=\"text-align: right;\">\n",
       "      <th></th>\n",
       "      <th>label</th>\n",
       "      <th>text_</th>\n",
       "    </tr>\n",
       "  </thead>\n",
       "  <tbody>\n",
       "    <tr>\n",
       "      <th>0</th>\n",
       "      <td>R</td>\n",
       "      <td>Love this!  Well made, sturdy, and very comfFt...</td>\n",
       "    </tr>\n",
       "    <tr>\n",
       "      <th>1</th>\n",
       "      <td>R</td>\n",
       "      <td>love it, a great upgrade from the Figinal.  I'...</td>\n",
       "    </tr>\n",
       "    <tr>\n",
       "      <th>2</th>\n",
       "      <td>R</td>\n",
       "      <td>This pillow saved my back. I love the look and...</td>\n",
       "    </tr>\n",
       "    <tr>\n",
       "      <th>3</th>\n",
       "      <td>R</td>\n",
       "      <td>Missing infFmation on how to use it, but it is...</td>\n",
       "    </tr>\n",
       "    <tr>\n",
       "      <th>4</th>\n",
       "      <td>R</td>\n",
       "      <td>Very nice set. Good quality. We have had the s...</td>\n",
       "    </tr>\n",
       "  </tbody>\n",
       "</table>\n",
       "</div>"
      ],
      "text/plain": [
       "  label                                              text_\n",
       "0     R  Love this!  Well made, sturdy, and very comfFt...\n",
       "1     R  love it, a great upgrade from the Figinal.  I'...\n",
       "2     R  This pillow saved my back. I love the look and...\n",
       "3     R  Missing infFmation on how to use it, but it is...\n",
       "4     R  Very nice set. Good quality. We have had the s..."
      ]
     },
     "execution_count": 23,
     "metadata": {},
     "output_type": "execute_result"
    }
   ],
   "source": [
    "dataframe = pd.read_csv('dataset.csv') #reading our dataset which contains text and a label whether it is fake or real\n",
    "dataframe.head() #printing the first 5 column in our dataset"
   ]
  },
  {
   "cell_type": "code",
   "execution_count": 24,
   "metadata": {},
   "outputs": [
    {
     "data": {
      "text/plain": [
       "'WEAK ON CURRENT SCIENCE.\\nAfter seeing it twice, I agree with much (but not all) of the positive five star reviews. Out of respect fF those who READ reviews, I\\'ll not repeat everything that I like about the presentation. I found the goofy oversize earrings, hairdo, and facial hair arrangement of Daniel Vitalis, (described as a \"Wild Food Expert\") distracting. UGH. Ditto fF David Wolfe, who had an extremely goofy wild hairdo. On the other hand, Jon Gabriel, described as an \"authF and weight loss expert\" was nicely groomed and a good presenter. His stFy of personal transfFmation of a fellow of over 400 pounds (whew) to becoming a jock of nFmal weight was inspiring. Christiane NFthrup preserves her rank as one of America\\'s cutest doctFs. A really nice looking woman! Presentations by Dr. Mercola, Jason Vale, Kris Carr, Alejandro Junger were fine. It was disappointing to have Jamie Oliver (so popular in the UK) give Baby Cow Growth Fluid a pass with unscientific but popular ideas on milk. None of the presenters had anything (ZILCH) to say about the wFk of DoctF T. Colin Campbell. Milk does a body bad. It was good to see all presenters take a stand against sugar. They all agreed on the evils of sugar and refined carbohydrates. With all respect to Dr. NFthrup, her \"It\\'s not fat that makes you fat - it\\'s sugar\" statement will not pass muster in the community of experts. Recognizing the evils of sugar should NOT be mutually exclusive to recognizing the proven dangers of fat - particularly fat from dead animals - and EXTRACTED fat of ALL kinds. Olive Oil is NOT a health food.\\n\\n<a data-hook=\"product-link-linked\" class=\"a-link-nFmal\" href=\"/The-China-Study-The-Most-Comprehensive-Study-of-Nutrition-Ever-Conducted-And-the-Startling-Implications-fF-Diet-Weight-Loss-And-Long-term-Health/dp/1932100660/ref=cm_cr_arp_d_rvw_txt?ie=UTF8\">The China Study: The Most Comprehensive Study of Nutrition Ever Conducted And the Startling Implications fF Diet, Weight Loss, And Long-term Health</a>\\n\\n<a data-hook=\"product-link-linked\" class=\"a-link-nFmal\" href=\"/FFks-Over-Knives/dp/B0053ZHZI2/ref=cm_cr_arp_d_rvw_txt?ie=UTF8\">FFks Over Knives</a>\\n\\n<a data-hook=\"product-link-linked\" class=\"a-link-nFmal\" href=\"/Prevent-and-Reverse-Heart-Disease-The-Revolutionary-Scientifically-Proven-Nutrition-Based-Cure/dp/1583333002/ref=cm_cr_arp_d_rvw_txt?ie=UTF8\">Prevent and Reverse Heart Disease: The Revolutionary, Scientifically Proven, Nutrition-Based Cure</a>\\n\\n<a data-hook=\"product-link-linked\" class=\"a-link-nFmal\" href=\"/The-Plant-Based-Journey-A-Step-by-Step-Guide-fF-Transitioning-to-a-Healthy-Lifestyle-and-Achieving-Your-Ideal-Weight/dp/1941631363/ref=cm_cr_arp_d_rvw_txt?ie=UTF8\">The Plant-Based Journey: A Step-by-Step Guide fF Transitioning to a Healthy Lifestyle and Achieving Your Ideal Weight</a>'"
      ]
     },
     "execution_count": 24,
     "metadata": {},
     "output_type": "execute_result"
    }
   ],
   "source": [
    "dataframe.dropna(inplace=True) #dropping alll the null rows in the dataset\n",
    "dataframe['length'] = dataframe['text_'].apply(len) #storing the length of all the text into a separate column called 'length'\n",
    "\n",
    "dataframe[dataframe['label']=='F'][['text_','length']].sort_values(by='length',ascending=False).head().iloc[0].text_ ##so here we are just collecting the words which are most common in the fake reviews so that we can identify these wrods to detect for future text"
   ]
  },
  {
   "cell_type": "code",
   "execution_count": 25,
   "metadata": {},
   "outputs": [],
   "source": [
    "def convertmyTxt(rv): #here we are defining a function\n",
    "    np = [c for c in rv if c not in string.punctuation] #this function is checking if it is present in punctuation or not.\n",
    "    np = ''.join(np) #the character which are not in punctuation, we are storing them in a separate string\n",
    "    return [w for w in np.split() if w.lower() not in stopwords.words('english')] #here we are returning a list of words from the sentences we just made in above line and checking if it is not a stopword\n",
    " \n",
    "x_train, x_test, y_train, y_test = train_test_split(dataframe['text_'],dataframe['label'],test_size=0.25)"
   ]
  },
  {
   "cell_type": "code",
   "execution_count": 26,
   "metadata": {},
   "outputs": [],
   "source": [
    "pip = Pipeline([\n",
    "    ('bow',CountVectorizer(analyzer=convertmyTxt)),\n",
    "    ('tfidf',TfidfTransformer()),\n",
    "    ('classifier',RandomForestClassifier())\n",
    "]) #here we are defining our Random Forest Classifier model in which we will pass the training and testing data"
   ]
  },
  {
   "cell_type": "code",
   "execution_count": 27,
   "metadata": {},
   "outputs": [
    {
     "data": {
      "text/html": [
       "<style>#sk-container-id-1 {color: black;background-color: white;}#sk-container-id-1 pre{padding: 0;}#sk-container-id-1 div.sk-toggleable {background-color: white;}#sk-container-id-1 label.sk-toggleable__label {cursor: pointer;display: block;width: 100%;margin-bottom: 0;padding: 0.3em;box-sizing: border-box;text-align: center;}#sk-container-id-1 label.sk-toggleable__label-arrow:before {content: \"▸\";float: left;margin-right: 0.25em;color: #696969;}#sk-container-id-1 label.sk-toggleable__label-arrow:hover:before {color: black;}#sk-container-id-1 div.sk-estimator:hover label.sk-toggleable__label-arrow:before {color: black;}#sk-container-id-1 div.sk-toggleable__content {max-height: 0;max-width: 0;overflow: hidden;text-align: left;background-color: #f0f8ff;}#sk-container-id-1 div.sk-toggleable__content pre {margin: 0.2em;color: black;border-radius: 0.25em;background-color: #f0f8ff;}#sk-container-id-1 input.sk-toggleable__control:checked~div.sk-toggleable__content {max-height: 200px;max-width: 100%;overflow: auto;}#sk-container-id-1 input.sk-toggleable__control:checked~label.sk-toggleable__label-arrow:before {content: \"▾\";}#sk-container-id-1 div.sk-estimator input.sk-toggleable__control:checked~label.sk-toggleable__label {background-color: #d4ebff;}#sk-container-id-1 div.sk-label input.sk-toggleable__control:checked~label.sk-toggleable__label {background-color: #d4ebff;}#sk-container-id-1 input.sk-hidden--visually {border: 0;clip: rect(1px 1px 1px 1px);clip: rect(1px, 1px, 1px, 1px);height: 1px;margin: -1px;overflow: hidden;padding: 0;position: absolute;width: 1px;}#sk-container-id-1 div.sk-estimator {font-family: monospace;background-color: #f0f8ff;border: 1px dotted black;border-radius: 0.25em;box-sizing: border-box;margin-bottom: 0.5em;}#sk-container-id-1 div.sk-estimator:hover {background-color: #d4ebff;}#sk-container-id-1 div.sk-parallel-item::after {content: \"\";width: 100%;border-bottom: 1px solid gray;flex-grow: 1;}#sk-container-id-1 div.sk-label:hover label.sk-toggleable__label {background-color: #d4ebff;}#sk-container-id-1 div.sk-serial::before {content: \"\";position: absolute;border-left: 1px solid gray;box-sizing: border-box;top: 0;bottom: 0;left: 50%;z-index: 0;}#sk-container-id-1 div.sk-serial {display: flex;flex-direction: column;align-items: center;background-color: white;padding-right: 0.2em;padding-left: 0.2em;position: relative;}#sk-container-id-1 div.sk-item {position: relative;z-index: 1;}#sk-container-id-1 div.sk-parallel {display: flex;align-items: stretch;justify-content: center;background-color: white;position: relative;}#sk-container-id-1 div.sk-item::before, #sk-container-id-1 div.sk-parallel-item::before {content: \"\";position: absolute;border-left: 1px solid gray;box-sizing: border-box;top: 0;bottom: 0;left: 50%;z-index: -1;}#sk-container-id-1 div.sk-parallel-item {display: flex;flex-direction: column;z-index: 1;position: relative;background-color: white;}#sk-container-id-1 div.sk-parallel-item:first-child::after {align-self: flex-end;width: 50%;}#sk-container-id-1 div.sk-parallel-item:last-child::after {align-self: flex-start;width: 50%;}#sk-container-id-1 div.sk-parallel-item:only-child::after {width: 0;}#sk-container-id-1 div.sk-dashed-wrapped {border: 1px dashed gray;margin: 0 0.4em 0.5em 0.4em;box-sizing: border-box;padding-bottom: 0.4em;background-color: white;}#sk-container-id-1 div.sk-label label {font-family: monospace;font-weight: bold;display: inline-block;line-height: 1.2em;}#sk-container-id-1 div.sk-label-container {text-align: center;}#sk-container-id-1 div.sk-container {/* jupyter's `normalize.less` sets `[hidden] { display: none; }` but bootstrap.min.css set `[hidden] { display: none !important; }` so we also need the `!important` here to be able to override the default hidden behavior on the sphinx rendered scikit-learn.org. See: https://github.com/scikit-learn/scikit-learn/issues/21755 */display: inline-block !important;position: relative;}#sk-container-id-1 div.sk-text-repr-fallback {display: none;}</style><div id=\"sk-container-id-1\" class=\"sk-top-container\"><div class=\"sk-text-repr-fallback\"><pre>Pipeline(steps=[(&#x27;bow&#x27;,\n",
       "                 CountVectorizer(analyzer=&lt;function convertmyTxt at 0x000001C36FC5F060&gt;)),\n",
       "                (&#x27;tfidf&#x27;, TfidfTransformer()),\n",
       "                (&#x27;classifier&#x27;, RandomForestClassifier())])</pre><b>In a Jupyter environment, please rerun this cell to show the HTML representation or trust the notebook. <br />On GitHub, the HTML representation is unable to render, please try loading this page with nbviewer.org.</b></div><div class=\"sk-container\" hidden><div class=\"sk-item sk-dashed-wrapped\"><div class=\"sk-label-container\"><div class=\"sk-label sk-toggleable\"><input class=\"sk-toggleable__control sk-hidden--visually\" id=\"sk-estimator-id-1\" type=\"checkbox\" ><label for=\"sk-estimator-id-1\" class=\"sk-toggleable__label sk-toggleable__label-arrow\">Pipeline</label><div class=\"sk-toggleable__content\"><pre>Pipeline(steps=[(&#x27;bow&#x27;,\n",
       "                 CountVectorizer(analyzer=&lt;function convertmyTxt at 0x000001C36FC5F060&gt;)),\n",
       "                (&#x27;tfidf&#x27;, TfidfTransformer()),\n",
       "                (&#x27;classifier&#x27;, RandomForestClassifier())])</pre></div></div></div><div class=\"sk-serial\"><div class=\"sk-item\"><div class=\"sk-estimator sk-toggleable\"><input class=\"sk-toggleable__control sk-hidden--visually\" id=\"sk-estimator-id-2\" type=\"checkbox\" ><label for=\"sk-estimator-id-2\" class=\"sk-toggleable__label sk-toggleable__label-arrow\">CountVectorizer</label><div class=\"sk-toggleable__content\"><pre>CountVectorizer(analyzer=&lt;function convertmyTxt at 0x000001C36FC5F060&gt;)</pre></div></div></div><div class=\"sk-item\"><div class=\"sk-estimator sk-toggleable\"><input class=\"sk-toggleable__control sk-hidden--visually\" id=\"sk-estimator-id-3\" type=\"checkbox\" ><label for=\"sk-estimator-id-3\" class=\"sk-toggleable__label sk-toggleable__label-arrow\">TfidfTransformer</label><div class=\"sk-toggleable__content\"><pre>TfidfTransformer()</pre></div></div></div><div class=\"sk-item\"><div class=\"sk-estimator sk-toggleable\"><input class=\"sk-toggleable__control sk-hidden--visually\" id=\"sk-estimator-id-4\" type=\"checkbox\" ><label for=\"sk-estimator-id-4\" class=\"sk-toggleable__label sk-toggleable__label-arrow\">RandomForestClassifier</label><div class=\"sk-toggleable__content\"><pre>RandomForestClassifier()</pre></div></div></div></div></div></div></div>"
      ],
      "text/plain": [
       "Pipeline(steps=[('bow',\n",
       "                 CountVectorizer(analyzer=<function convertmyTxt at 0x000001C36FC5F060>)),\n",
       "                ('tfidf', TfidfTransformer()),\n",
       "                ('classifier', RandomForestClassifier())])"
      ]
     },
     "execution_count": 27,
     "metadata": {},
     "output_type": "execute_result"
    }
   ],
   "source": [
    "pip.fit(x_train,y_train) #here we are passing the testing and training data into Random Forest Classifier"
   ]
  },
  {
   "cell_type": "code",
   "execution_count": 35,
   "metadata": {},
   "outputs": [
    {
     "data": {
      "text/plain": [
       "['CSV/classifier.pkl']"
      ]
     },
     "execution_count": 35,
     "metadata": {},
     "output_type": "execute_result"
    }
   ],
   "source": [
    "import joblib\n",
    "joblib.dump(pip.fit(x_train,y_train),'CSV/classifier.pkl')"
   ]
  },
  {
   "cell_type": "code",
   "execution_count": 53,
   "metadata": {},
   "outputs": [],
   "source": [
    "x = pd.read_csv('../fake_review/CSV/reviews.csv')\n",
    "newcontent = x[\"content\"].tolist()\n",
    "randomForestClassifier = pip.predict(x[\"content\"]) #here we are predicting the accuracy of the Random Forest Classifier model\n",
    "randomForestClassifier\n",
    "x['Label'] = randomForestClassifier\n",
    "x.to_csv('CSV/new_reviews_with_labels.csv', index=False)"
   ]
  },
  {
   "cell_type": "code",
   "execution_count": 54,
   "metadata": {},
   "outputs": [
    {
     "name": "stdout",
     "output_type": "stream",
     "text": [
      "Awesome in this rangeReally superb ☺️😉It super modal by realme I really like this design.   F\n",
      "Looking osmmm and actually this budget have likely superb mobile, battery,camera , and performance was good and mobile looks attractive... so related this mobile all is good 👍.   F\n",
      "Realme c55 is best in this price segment everything is interesting except camera 🤳📸..   F\n",
      "Very nice product.   R\n",
      "Budget mobile excellent.   F\n",
      "Don't by this phone.   F\n",
      "Nice product.   R\n",
      "Write this review after 2 days of usage. Pros:1) design : The design of this phone is really good.the camera outlet give this phone a premium look.2) battery: for medium use this mobile gives a whole day battery backup.3) diaplay size : the display is comes with a center camera the size of this display is really impressive and provide a wide view.Cons:1) heating while charging: due to the fast charging this phone heats up very badly while putting in charge..   F\n",
      "Very very nice phone.   R\n",
      "Camera is very goodPerformance and battery also goodThis is the best phone under 12k.   R\n",
      "Day to day usd best.   F\n",
      "Worst product of realme brand , Camera performance is very poor , don't buy it. Also it's overheating.   F\n",
      "Superb Design A class.. Feeling like i phone hahaha value for money..   F\n",
      "NYC product this product is very NYC camera nyc..And Display nyc I loved it.   F\n",
      "Nice phone.   R\n",
      "Camera not good heating.   F\n",
      "Not happy.   F\n",
      "Overall good but sound quality disappoint me..   R\n",
      "Overall mobile is good but display refresh was poor.   F\n",
      "performance is worst.   F\n",
      "Do not buy this phone. The shape of phone is bent. Have so many issues like screen blinking, speaker, microphone.....   R\n",
      "Good product 👍👍.   F\n",
      "ok.   F\n",
      "Good phone according this price ✨.   F\n",
      "Mobile is all good.   F\n",
      "Worst mobile never expected this from realme the processor was too bad and camera quality is very dull and performance is worst totally it is waste piece.this is a low budget mobile who wants in the range of 12k it is better for highclass this is not suitable.   F\n",
      "the mobile is awesome i have it since 10 days Camera Like Premium,Look So Beautiful,Battery Lasts Long,Over All Good Mobile.   F\n",
      "Nice pice.   R\n",
      "Nice look fast run workin,thanks delivary boy.   F\n",
      "Very good 👍.   R\n",
      "Wow looking awesome.   F\n",
      "Nice mobile.   F\n",
      "Nice look 😊.   R\n",
      "Good.   F\n",
      "There are some framedrops and gitters sometime but hopefully it'll be removed through future updates .Best product in this budget. I have 6 gb variant and after 7 days of usgae I can say it is completely worth..   F\n",
      "I'm so happy.   R\n",
      "Battery backup is best.   R\n",
      "Good.   F\n",
      "Awesome awesome awesome 👍😊.   F\n",
      "good pordakte.   R\n",
      "Front camera quality not good, battery level down fastly, speaker sound is not good.   R\n",
      "very bad product.   F\n",
      "Very nice mobile 📲.   F\n",
      "Best product.   F\n",
      "Heating problem.   R\n",
      "Best phone in this price.   F\n",
      "Good.   F\n",
      "Best mobile phone.   F\n",
      "I love phone 👌👌👌👌.   R\n",
      "Osm.   F\n",
      "Picture quality is not good.   R\n",
      "Speaker quality bad.   F\n",
      "Value for money Impressive design.   F\n",
      "All over good.   R\n",
      "Very nice 👍👍.   R\n",
      "Camera is not good not for buying camera video because camera quality is not good.   R\n",
      "Amazing Smartphone, stylish and  finishing looking So Good . But Camera 📸 quality is Bad.   F\n",
      "Good.   F\n",
      "Not good mobile.   F\n",
      "Osm mobile in bajat.   F\n",
      "Paisa wasool product 👍I like this product 🤩.   F\n",
      "GOOD QUALITY AND GOOD PERFORMANCE GOOD CAMERA QUALITY.   F\n",
      "Super.   F\n",
      "VERY GOOD.   F\n",
      "Nice phone camera is very good   I love Flipkart.   R\n",
      "Good.   F\n",
      "Nice.   R\n",
      "Camera quality is not good but it is blurry if you zoom in then you get grainy type.   R\n",
      "Good performance.   F\n",
      "Very nice.   R\n",
      "Super.   F\n",
      "Just wow.   F\n",
      "Value for money.   F\n",
      "Good looking hot ok phone.   F\n",
      "Best budget phone.   F\n",
      "Good.   F\n",
      "Designed in this segment is spectacular And other things is decent. Yes I think speaker quality must be done better . That's why I give it  ⭐⭐⭐⭐.   F\n",
      "Nice 👍👍 looking.   F\n",
      "Very nice disign 👍😍 and nice display full package is very good 😊😌.   R\n",
      "Best phone on this price range       I am happy 😊.   F\n",
      "Nice product.   R\n",
      "Awesome buy.   F\n",
      "So nice.   R\n",
      "vari niec phone.   R\n",
      "Good phone I am happy.   F\n",
      "Plz don't buy this mobile. Speaker quality is very poor. Also return request not done by Flipkart..   F\n",
      "I like all performance of this mobile.   F\n",
      "Good camera with looks good with this colour. Good phone cover. Very economical options for children use..   F\n",
      "If you want a good camera,design,little bit gameplay you can take or go for motoG72 or G13.  But one of the best phone in this segment.   R\n",
      "Excellent.   F\n",
      "Fabulous.   R\n",
      "Good Realme c55.   F\n",
      "Very good product.   R\n",
      "Good product.   F\n",
      "Good.   F\n",
      "Great phone.. awesome.   R\n",
      "Very nice.   R\n",
      "Good product and very much camera and very nice battery.   F\n",
      "Nice parfomansDilevery boy good.....   R\n",
      "vary nice products 🥰.   F\n",
      "Super Duper Realme c55 phone 🤳.   F\n",
      "Better phone on praise.   F\n",
      "Realme c55 is a best mobile.   F\n",
      "Camera results not 64 mpBig camera look like one rupees coinPhone operating good.   F\n",
      "Product is gud, camera gud and battery is half hourcomplete.   F\n",
      "Everything is good but processor is not good 😊.   R\n",
      "Osm phone...camera good ...design mind-blowing.   R\n",
      "Amazing device 😍.   R\n",
      "Phone is good ,bt after 15 minutes of use it becomes heat,and front camera quality is average.   F\n",
      "LIKE ___-CAMEAR IS GOOD IN OUT DOOR CONDITION .AND SECOND ONE LIKE HE'S  BUILD QUALITY SO PREMIUM FEELING DO IT .  unlike ___-this phone selfie 🤳 is  so just poor         And battery 🔋 just good ...I recommend buy  not for gamers 😔.   F\n",
      "This was nice shaandal  This phn was custody in 24hrs.   F\n",
      "Nice product 😊👍.   R\n",
      "Hanging problem..camera is also like blurry..this is like big screen china phone.   R\n",
      "Nice product thanks realme.   F\n",
      "This is one of the best mobile at this price..   F\n",
      "What a premium Looking phone, Camera is Decent (Good side) But Performance is just ok not good, If This phone will 5g and 1k More expensive then its Grat deal.   F\n",
      "Very average phone even for the price it should perform better ,6/64 variant is laggy.   F\n",
      "Wife happy  she loved 🪂.   R\n",
      "I love realme.   R\n",
      "Good.   F\n",
      "Flipkart thank you.   F\n",
      "Design very nice.   F\n",
      "Best price phone.   F\n",
      "Good.   F\n"
     ]
    }
   ],
   "source": [
    "newcontent = x[\"content\"].tolist()\n",
    "status = randomForestClassifier.tolist()\n",
    "for i in range(len(newcontent)):\n",
    "    print(newcontent[i],\" \",status[i])"
   ]
  },
  {
   "cell_type": "code",
   "execution_count": 47,
   "metadata": {},
   "outputs": [],
   "source": [
    "pip = Pipeline([\n",
    "    ('bow',CountVectorizer(analyzer=convertmyTxt)),\n",
    "    ('tfidf',TfidfTransformer()),\n",
    "    ('classifier',SVC())\n",
    "])#here we are defining our Support Vector Classifier model in which we will pass the training and testing data"
   ]
  },
  {
   "cell_type": "code",
   "execution_count": 48,
   "metadata": {},
   "outputs": [
    {
     "data": {
      "text/html": [
       "<style>#sk-container-id-2 {color: black;background-color: white;}#sk-container-id-2 pre{padding: 0;}#sk-container-id-2 div.sk-toggleable {background-color: white;}#sk-container-id-2 label.sk-toggleable__label {cursor: pointer;display: block;width: 100%;margin-bottom: 0;padding: 0.3em;box-sizing: border-box;text-align: center;}#sk-container-id-2 label.sk-toggleable__label-arrow:before {content: \"▸\";float: left;margin-right: 0.25em;color: #696969;}#sk-container-id-2 label.sk-toggleable__label-arrow:hover:before {color: black;}#sk-container-id-2 div.sk-estimator:hover label.sk-toggleable__label-arrow:before {color: black;}#sk-container-id-2 div.sk-toggleable__content {max-height: 0;max-width: 0;overflow: hidden;text-align: left;background-color: #f0f8ff;}#sk-container-id-2 div.sk-toggleable__content pre {margin: 0.2em;color: black;border-radius: 0.25em;background-color: #f0f8ff;}#sk-container-id-2 input.sk-toggleable__control:checked~div.sk-toggleable__content {max-height: 200px;max-width: 100%;overflow: auto;}#sk-container-id-2 input.sk-toggleable__control:checked~label.sk-toggleable__label-arrow:before {content: \"▾\";}#sk-container-id-2 div.sk-estimator input.sk-toggleable__control:checked~label.sk-toggleable__label {background-color: #d4ebff;}#sk-container-id-2 div.sk-label input.sk-toggleable__control:checked~label.sk-toggleable__label {background-color: #d4ebff;}#sk-container-id-2 input.sk-hidden--visually {border: 0;clip: rect(1px 1px 1px 1px);clip: rect(1px, 1px, 1px, 1px);height: 1px;margin: -1px;overflow: hidden;padding: 0;position: absolute;width: 1px;}#sk-container-id-2 div.sk-estimator {font-family: monospace;background-color: #f0f8ff;border: 1px dotted black;border-radius: 0.25em;box-sizing: border-box;margin-bottom: 0.5em;}#sk-container-id-2 div.sk-estimator:hover {background-color: #d4ebff;}#sk-container-id-2 div.sk-parallel-item::after {content: \"\";width: 100%;border-bottom: 1px solid gray;flex-grow: 1;}#sk-container-id-2 div.sk-label:hover label.sk-toggleable__label {background-color: #d4ebff;}#sk-container-id-2 div.sk-serial::before {content: \"\";position: absolute;border-left: 1px solid gray;box-sizing: border-box;top: 0;bottom: 0;left: 50%;z-index: 0;}#sk-container-id-2 div.sk-serial {display: flex;flex-direction: column;align-items: center;background-color: white;padding-right: 0.2em;padding-left: 0.2em;position: relative;}#sk-container-id-2 div.sk-item {position: relative;z-index: 1;}#sk-container-id-2 div.sk-parallel {display: flex;align-items: stretch;justify-content: center;background-color: white;position: relative;}#sk-container-id-2 div.sk-item::before, #sk-container-id-2 div.sk-parallel-item::before {content: \"\";position: absolute;border-left: 1px solid gray;box-sizing: border-box;top: 0;bottom: 0;left: 50%;z-index: -1;}#sk-container-id-2 div.sk-parallel-item {display: flex;flex-direction: column;z-index: 1;position: relative;background-color: white;}#sk-container-id-2 div.sk-parallel-item:first-child::after {align-self: flex-end;width: 50%;}#sk-container-id-2 div.sk-parallel-item:last-child::after {align-self: flex-start;width: 50%;}#sk-container-id-2 div.sk-parallel-item:only-child::after {width: 0;}#sk-container-id-2 div.sk-dashed-wrapped {border: 1px dashed gray;margin: 0 0.4em 0.5em 0.4em;box-sizing: border-box;padding-bottom: 0.4em;background-color: white;}#sk-container-id-2 div.sk-label label {font-family: monospace;font-weight: bold;display: inline-block;line-height: 1.2em;}#sk-container-id-2 div.sk-label-container {text-align: center;}#sk-container-id-2 div.sk-container {/* jupyter's `normalize.less` sets `[hidden] { display: none; }` but bootstrap.min.css set `[hidden] { display: none !important; }` so we also need the `!important` here to be able to override the default hidden behavior on the sphinx rendered scikit-learn.org. See: https://github.com/scikit-learn/scikit-learn/issues/21755 */display: inline-block !important;position: relative;}#sk-container-id-2 div.sk-text-repr-fallback {display: none;}</style><div id=\"sk-container-id-2\" class=\"sk-top-container\"><div class=\"sk-text-repr-fallback\"><pre>Pipeline(steps=[(&#x27;bow&#x27;,\n",
       "                 CountVectorizer(analyzer=&lt;function convertmyTxt at 0x000001C36FC5F060&gt;)),\n",
       "                (&#x27;tfidf&#x27;, TfidfTransformer()), (&#x27;classifier&#x27;, SVC())])</pre><b>In a Jupyter environment, please rerun this cell to show the HTML representation or trust the notebook. <br />On GitHub, the HTML representation is unable to render, please try loading this page with nbviewer.org.</b></div><div class=\"sk-container\" hidden><div class=\"sk-item sk-dashed-wrapped\"><div class=\"sk-label-container\"><div class=\"sk-label sk-toggleable\"><input class=\"sk-toggleable__control sk-hidden--visually\" id=\"sk-estimator-id-5\" type=\"checkbox\" ><label for=\"sk-estimator-id-5\" class=\"sk-toggleable__label sk-toggleable__label-arrow\">Pipeline</label><div class=\"sk-toggleable__content\"><pre>Pipeline(steps=[(&#x27;bow&#x27;,\n",
       "                 CountVectorizer(analyzer=&lt;function convertmyTxt at 0x000001C36FC5F060&gt;)),\n",
       "                (&#x27;tfidf&#x27;, TfidfTransformer()), (&#x27;classifier&#x27;, SVC())])</pre></div></div></div><div class=\"sk-serial\"><div class=\"sk-item\"><div class=\"sk-estimator sk-toggleable\"><input class=\"sk-toggleable__control sk-hidden--visually\" id=\"sk-estimator-id-6\" type=\"checkbox\" ><label for=\"sk-estimator-id-6\" class=\"sk-toggleable__label sk-toggleable__label-arrow\">CountVectorizer</label><div class=\"sk-toggleable__content\"><pre>CountVectorizer(analyzer=&lt;function convertmyTxt at 0x000001C36FC5F060&gt;)</pre></div></div></div><div class=\"sk-item\"><div class=\"sk-estimator sk-toggleable\"><input class=\"sk-toggleable__control sk-hidden--visually\" id=\"sk-estimator-id-7\" type=\"checkbox\" ><label for=\"sk-estimator-id-7\" class=\"sk-toggleable__label sk-toggleable__label-arrow\">TfidfTransformer</label><div class=\"sk-toggleable__content\"><pre>TfidfTransformer()</pre></div></div></div><div class=\"sk-item\"><div class=\"sk-estimator sk-toggleable\"><input class=\"sk-toggleable__control sk-hidden--visually\" id=\"sk-estimator-id-8\" type=\"checkbox\" ><label for=\"sk-estimator-id-8\" class=\"sk-toggleable__label sk-toggleable__label-arrow\">SVC</label><div class=\"sk-toggleable__content\"><pre>SVC()</pre></div></div></div></div></div></div></div>"
      ],
      "text/plain": [
       "Pipeline(steps=[('bow',\n",
       "                 CountVectorizer(analyzer=<function convertmyTxt at 0x000001C36FC5F060>)),\n",
       "                ('tfidf', TfidfTransformer()), ('classifier', SVC())])"
      ]
     },
     "execution_count": 48,
     "metadata": {},
     "output_type": "execute_result"
    }
   ],
   "source": [
    "pip.fit(x_train,y_train)#here we are passing the testing and training data into support Vector Classifier"
   ]
  },
  {
   "cell_type": "code",
   "execution_count": 49,
   "metadata": {},
   "outputs": [],
   "source": [
    "x = pd.read_csv('../fake_review/CSV/reviews.csv')\n",
    "newcontent = x[\"content\"].tolist()\n",
    "supportVectorClassifier = pip.predict(x[\"content\"]) #here we are predicting the accuracy of the Random Forest Classifier model\n",
    "supportVectorClassifier\n",
    "x['Label'] = supportVectorClassifier\n",
    "x.to_csv('CSV/new_reviews_with_labels.csv', index=False)"
   ]
  },
  {
   "cell_type": "code",
   "execution_count": 55,
   "metadata": {},
   "outputs": [
    {
     "name": "stdout",
     "output_type": "stream",
     "text": [
      "Awesome in this rangeReally superb ☺️😉It super modal by realme I really like this design.   F\n",
      "Looking osmmm and actually this budget have likely superb mobile, battery,camera , and performance was good and mobile looks attractive... so related this mobile all is good 👍.   F\n",
      "Realme c55 is best in this price segment everything is interesting except camera 🤳📸..   F\n",
      "Very nice product.   R\n",
      "Budget mobile excellent.   F\n",
      "Don't by this phone.   F\n",
      "Nice product.   R\n",
      "Write this review after 2 days of usage. Pros:1) design : The design of this phone is really good.the camera outlet give this phone a premium look.2) battery: for medium use this mobile gives a whole day battery backup.3) diaplay size : the display is comes with a center camera the size of this display is really impressive and provide a wide view.Cons:1) heating while charging: due to the fast charging this phone heats up very badly while putting in charge..   F\n",
      "Very very nice phone.   R\n",
      "Camera is very goodPerformance and battery also goodThis is the best phone under 12k.   R\n",
      "Day to day usd best.   F\n",
      "Worst product of realme brand , Camera performance is very poor , don't buy it. Also it's overheating.   F\n",
      "Superb Design A class.. Feeling like i phone hahaha value for money..   F\n",
      "NYC product this product is very NYC camera nyc..And Display nyc I loved it.   F\n",
      "Nice phone.   R\n",
      "Camera not good heating.   F\n",
      "Not happy.   F\n",
      "Overall good but sound quality disappoint me..   R\n",
      "Overall mobile is good but display refresh was poor.   F\n",
      "performance is worst.   F\n",
      "Do not buy this phone. The shape of phone is bent. Have so many issues like screen blinking, speaker, microphone.....   R\n",
      "Good product 👍👍.   F\n",
      "ok.   F\n",
      "Good phone according this price ✨.   F\n",
      "Mobile is all good.   F\n",
      "Worst mobile never expected this from realme the processor was too bad and camera quality is very dull and performance is worst totally it is waste piece.this is a low budget mobile who wants in the range of 12k it is better for highclass this is not suitable.   F\n",
      "the mobile is awesome i have it since 10 days Camera Like Premium,Look So Beautiful,Battery Lasts Long,Over All Good Mobile.   F\n",
      "Nice pice.   R\n",
      "Nice look fast run workin,thanks delivary boy.   F\n",
      "Very good 👍.   R\n",
      "Wow looking awesome.   F\n",
      "Nice mobile.   F\n",
      "Nice look 😊.   R\n",
      "Good.   F\n",
      "There are some framedrops and gitters sometime but hopefully it'll be removed through future updates .Best product in this budget. I have 6 gb variant and after 7 days of usgae I can say it is completely worth..   F\n",
      "I'm so happy.   R\n",
      "Battery backup is best.   R\n",
      "Good.   F\n",
      "Awesome awesome awesome 👍😊.   F\n",
      "good pordakte.   R\n",
      "Front camera quality not good, battery level down fastly, speaker sound is not good.   R\n",
      "very bad product.   F\n",
      "Very nice mobile 📲.   F\n",
      "Best product.   F\n",
      "Heating problem.   R\n",
      "Best phone in this price.   F\n",
      "Good.   F\n",
      "Best mobile phone.   F\n",
      "I love phone 👌👌👌👌.   R\n",
      "Osm.   F\n",
      "Picture quality is not good.   R\n",
      "Speaker quality bad.   F\n",
      "Value for money Impressive design.   F\n",
      "All over good.   R\n",
      "Very nice 👍👍.   R\n",
      "Camera is not good not for buying camera video because camera quality is not good.   R\n",
      "Amazing Smartphone, stylish and  finishing looking So Good . But Camera 📸 quality is Bad.   F\n",
      "Good.   F\n",
      "Not good mobile.   F\n",
      "Osm mobile in bajat.   F\n",
      "Paisa wasool product 👍I like this product 🤩.   F\n",
      "GOOD QUALITY AND GOOD PERFORMANCE GOOD CAMERA QUALITY.   F\n",
      "Super.   F\n",
      "VERY GOOD.   F\n",
      "Nice phone camera is very good   I love Flipkart.   R\n",
      "Good.   F\n",
      "Nice.   R\n",
      "Camera quality is not good but it is blurry if you zoom in then you get grainy type.   R\n",
      "Good performance.   F\n",
      "Very nice.   R\n",
      "Super.   F\n",
      "Just wow.   F\n",
      "Value for money.   F\n",
      "Good looking hot ok phone.   F\n",
      "Best budget phone.   F\n",
      "Good.   F\n",
      "Designed in this segment is spectacular And other things is decent. Yes I think speaker quality must be done better . That's why I give it  ⭐⭐⭐⭐.   F\n",
      "Nice 👍👍 looking.   F\n",
      "Very nice disign 👍😍 and nice display full package is very good 😊😌.   R\n",
      "Best phone on this price range       I am happy 😊.   F\n",
      "Nice product.   R\n",
      "Awesome buy.   F\n",
      "So nice.   R\n",
      "vari niec phone.   R\n",
      "Good phone I am happy.   F\n",
      "Plz don't buy this mobile. Speaker quality is very poor. Also return request not done by Flipkart..   F\n",
      "I like all performance of this mobile.   F\n",
      "Good camera with looks good with this colour. Good phone cover. Very economical options for children use..   F\n",
      "If you want a good camera,design,little bit gameplay you can take or go for motoG72 or G13.  But one of the best phone in this segment.   R\n",
      "Excellent.   F\n",
      "Fabulous.   R\n",
      "Good Realme c55.   F\n",
      "Very good product.   R\n",
      "Good product.   F\n",
      "Good.   F\n",
      "Great phone.. awesome.   R\n",
      "Very nice.   R\n",
      "Good product and very much camera and very nice battery.   F\n",
      "Nice parfomansDilevery boy good.....   R\n",
      "vary nice products 🥰.   F\n",
      "Super Duper Realme c55 phone 🤳.   F\n",
      "Better phone on praise.   F\n",
      "Realme c55 is a best mobile.   F\n",
      "Camera results not 64 mpBig camera look like one rupees coinPhone operating good.   F\n",
      "Product is gud, camera gud and battery is half hourcomplete.   F\n",
      "Everything is good but processor is not good 😊.   R\n",
      "Osm phone...camera good ...design mind-blowing.   R\n",
      "Amazing device 😍.   R\n",
      "Phone is good ,bt after 15 minutes of use it becomes heat,and front camera quality is average.   F\n",
      "LIKE ___-CAMEAR IS GOOD IN OUT DOOR CONDITION .AND SECOND ONE LIKE HE'S  BUILD QUALITY SO PREMIUM FEELING DO IT .  unlike ___-this phone selfie 🤳 is  so just poor         And battery 🔋 just good ...I recommend buy  not for gamers 😔.   F\n",
      "This was nice shaandal  This phn was custody in 24hrs.   F\n",
      "Nice product 😊👍.   R\n",
      "Hanging problem..camera is also like blurry..this is like big screen china phone.   R\n",
      "Nice product thanks realme.   F\n",
      "This is one of the best mobile at this price..   F\n",
      "What a premium Looking phone, Camera is Decent (Good side) But Performance is just ok not good, If This phone will 5g and 1k More expensive then its Grat deal.   F\n",
      "Very average phone even for the price it should perform better ,6/64 variant is laggy.   F\n",
      "Wife happy  she loved 🪂.   R\n",
      "I love realme.   R\n",
      "Good.   F\n",
      "Flipkart thank you.   F\n",
      "Design very nice.   F\n",
      "Best price phone.   F\n",
      "Good.   F\n"
     ]
    }
   ],
   "source": [
    "newcontent = x[\"content\"].tolist()\n",
    "status = randomForestClassifier.tolist()\n",
    "for i in range(len(newcontent)):\n",
    "    print(newcontent[i],\" \",status[i])"
   ]
  }
 ],
 "metadata": {
  "kernelspec": {
   "display_name": "env",
   "language": "python",
   "name": "python3"
  },
  "language_info": {
   "codemirror_mode": {
    "name": "ipython",
    "version": 3
   },
   "file_extension": ".py",
   "mimetype": "text/x-python",
   "name": "python",
   "nbconvert_exporter": "python",
   "pygments_lexer": "ipython3",
   "version": "3.11.0"
  },
  "orig_nbformat": 4
 },
 "nbformat": 4,
 "nbformat_minor": 2
}
